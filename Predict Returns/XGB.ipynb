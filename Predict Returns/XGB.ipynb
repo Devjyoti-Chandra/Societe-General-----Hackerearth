{
 "cells": [
  {
   "cell_type": "code",
   "execution_count": 49,
   "metadata": {
    "collapsed": true
   },
   "outputs": [],
   "source": [
    "# 2004\n",
    "_2004=[2.037, 2.049, 2.027, 2.086, 2.047, 2.051, 2.081, 2.054, 2.070, 2.136, 2.108, 2.080]    "
   ]
  },
  {
   "cell_type": "code",
   "execution_count": 50,
   "metadata": {
    "collapsed": true
   },
   "outputs": [],
   "source": [
    "# 2005\n",
    "_2005=[2.093, 2.077, 2.070, 2.096, 2.086, 2.078, 2.087, 2.079, 2.110, 2.085, 2.102, 2.296]        "
   ]
  },
  {
   "cell_type": "code",
   "execution_count": 51,
   "metadata": {
    "collapsed": true
   },
   "outputs": [],
   "source": [
    "# 2006\n",
    "_2006=[2.342, 2.362, 2.535, 2.640, 2.592, 2.705, 2.828, 2.984, 3.058, 3.294, 3.344, 3.518]            "
   ]
  },
  {
   "cell_type": "code",
   "execution_count": 52,
   "metadata": {
    "collapsed": true
   },
   "outputs": [],
   "source": [
    "# 2007   \n",
    "_2007=[3.578, 3.575, 3.702, 3.828, 3.805, 3.973, 4.077, 4.086, 4.073, 3.985, 4.034, 3.918]                "
   ]
  },
  {
   "cell_type": "code",
   "execution_count": 53,
   "metadata": {
    "collapsed": true
   },
   "outputs": [],
   "source": [
    "# 2008\n",
    "_2008=[4.027, 4.034, 4.106, 4.013, 4.021, 4.013, 4.178, 4.269, 4.301, 3.892, 3.158, 2.430]                    "
   ]
  },
  {
   "cell_type": "code",
   "execution_count": 54,
   "metadata": {
    "collapsed": true
   },
   "outputs": [],
   "source": [
    "# 2009    \n",
    "_2009=[1.729, 1.160, 0.966, 0.823, 0.678, 0.656, 0.280, 0.275, 0.294, 0.290, 0.315, 0.317]                        "
   ]
  },
  {
   "cell_type": "code",
   "execution_count": 55,
   "metadata": {
    "collapsed": true
   },
   "outputs": [],
   "source": [
    "# 2010\n",
    "_2010=[0.296, 0.299, 0.295, 0.297, 0.294, 0.292, 0.389, 0.377, 0.394, 0.630, 0.552, 0.440]                        "
   ]
  },
  {
   "cell_type": "code",
   "execution_count": 56,
   "metadata": {
    "collapsed": true
   },
   "outputs": [],
   "source": [
    "# 2011\n",
    "_2011=[0.589, 0.680, 0.624, 0.918, 1.035, 1.131, 0.971, 0.860, 0.909, 0.878, 0.704, 0.507]"
   ]
  },
  {
   "cell_type": "code",
   "execution_count": 57,
   "metadata": {
    "collapsed": true
   },
   "outputs": [],
   "source": [
    "# 2012\n",
    "_2012=[0.296, 0.281, 0.264, 0.259, 0.255, 0.261, 0.106, 0.023, 0.019, 0.014, 0.013, 0.014]"
   ]
  },
  {
   "cell_type": "code",
   "execution_count": 58,
   "metadata": {
    "collapsed": true
   },
   "outputs": [],
   "source": [
    "# 2013\n",
    "_2013=[0.014, 0.017, 0.020, 0.024, 0.024, 0.035, 0.042, 0.042, 0.044, 0.051, 0.064, 0.117]"
   ]
  },
  {
   "cell_type": "code",
   "execution_count": 59,
   "metadata": {
    "collapsed": true
   },
   "outputs": [],
   "source": [
    "# 2014\n",
    "_2014=[0.130, 0.097, 0.130, 0.185, 0.209, 0.058, 0.006, -0.006, -0.032, -0.052, -0.055, -0.085]"
   ]
  },
  {
   "cell_type": "code",
   "execution_count": 60,
   "metadata": {
    "collapsed": true
   },
   "outputs": [],
   "source": [
    "# 2015\n",
    "_2015=[-0.123, -0.095, -0.126, -0.164, -0.172, -0.174, -0.178, -0.180, -0.180, -0.180, -0.183, -0.253]"
   ]
  },
  {
   "cell_type": "code",
   "execution_count": 61,
   "metadata": {
    "collapsed": true
   },
   "outputs": [],
   "source": [
    "# 2016\n",
    "_2016=[-0.284, -0.284, -0.335, -0.390, -0.397, -0.395, -0.399, -0.400, -0.402, -0.406, -0.408, -0.410]"
   ]
  },
  {
   "cell_type": "code",
   "execution_count": 62,
   "metadata": {
    "collapsed": true
   },
   "outputs": [],
   "source": [
    "# 2017\n",
    "_2017=[-0.411, -0.416, -0.423, -0.424, -0.426, -0.428, -0.427, -0.428, -0.430, -0.436, -0.438, -0.438]"
   ]
  },
  {
   "cell_type": "code",
   "execution_count": 1,
   "metadata": {
    "collapsed": true
   },
   "outputs": [],
   "source": [
    "import pandas as pd\n",
    "#l=[_2004, _2005, _2006, _2007, _2008, _2009, _2010, _2011, _2012, _2013, _2014, _2015, _2016, _2017]\n",
    "#data=pd.DataFrame(l)"
   ]
  },
  {
   "cell_type": "code",
   "execution_count": 64,
   "metadata": {
    "collapsed": true
   },
   "outputs": [],
   "source": [
    "data=data.T"
   ]
  },
  {
   "cell_type": "code",
   "execution_count": 65,
   "metadata": {
    "collapsed": true
   },
   "outputs": [],
   "source": [
    "data.columns=[2004, 2005, 2006, 2007, 2008, 2009, 2010, 2011, 2012, 2013, 2014, 2015, 2016, 2017]"
   ]
  },
  {
   "cell_type": "code",
   "execution_count": 66,
   "metadata": {},
   "outputs": [
    {
     "data": {
      "text/html": [
       "<div>\n",
       "<style>\n",
       "    .dataframe thead tr:only-child th {\n",
       "        text-align: right;\n",
       "    }\n",
       "\n",
       "    .dataframe thead th {\n",
       "        text-align: left;\n",
       "    }\n",
       "\n",
       "    .dataframe tbody tr th {\n",
       "        vertical-align: top;\n",
       "    }\n",
       "</style>\n",
       "<table border=\"1\" class=\"dataframe\">\n",
       "  <thead>\n",
       "    <tr style=\"text-align: right;\">\n",
       "      <th></th>\n",
       "      <th>2004</th>\n",
       "      <th>2005</th>\n",
       "      <th>2006</th>\n",
       "      <th>2007</th>\n",
       "      <th>2008</th>\n",
       "      <th>2009</th>\n",
       "      <th>2010</th>\n",
       "      <th>2011</th>\n",
       "      <th>2012</th>\n",
       "      <th>2013</th>\n",
       "      <th>2014</th>\n",
       "      <th>2015</th>\n",
       "      <th>2016</th>\n",
       "      <th>2017</th>\n",
       "    </tr>\n",
       "  </thead>\n",
       "  <tbody>\n",
       "    <tr>\n",
       "      <th>0</th>\n",
       "      <td>2.037</td>\n",
       "      <td>2.093</td>\n",
       "      <td>2.342</td>\n",
       "      <td>3.578</td>\n",
       "      <td>4.027</td>\n",
       "      <td>1.729</td>\n",
       "      <td>0.296</td>\n",
       "      <td>0.589</td>\n",
       "      <td>0.296</td>\n",
       "      <td>0.014</td>\n",
       "      <td>0.130</td>\n",
       "      <td>-0.123</td>\n",
       "      <td>-0.284</td>\n",
       "      <td>-0.411</td>\n",
       "    </tr>\n",
       "    <tr>\n",
       "      <th>1</th>\n",
       "      <td>2.049</td>\n",
       "      <td>2.077</td>\n",
       "      <td>2.362</td>\n",
       "      <td>3.575</td>\n",
       "      <td>4.034</td>\n",
       "      <td>1.160</td>\n",
       "      <td>0.299</td>\n",
       "      <td>0.680</td>\n",
       "      <td>0.281</td>\n",
       "      <td>0.017</td>\n",
       "      <td>0.097</td>\n",
       "      <td>-0.095</td>\n",
       "      <td>-0.284</td>\n",
       "      <td>-0.416</td>\n",
       "    </tr>\n",
       "    <tr>\n",
       "      <th>2</th>\n",
       "      <td>2.027</td>\n",
       "      <td>2.070</td>\n",
       "      <td>2.535</td>\n",
       "      <td>3.702</td>\n",
       "      <td>4.106</td>\n",
       "      <td>0.966</td>\n",
       "      <td>0.295</td>\n",
       "      <td>0.624</td>\n",
       "      <td>0.264</td>\n",
       "      <td>0.020</td>\n",
       "      <td>0.130</td>\n",
       "      <td>-0.126</td>\n",
       "      <td>-0.335</td>\n",
       "      <td>-0.423</td>\n",
       "    </tr>\n",
       "    <tr>\n",
       "      <th>3</th>\n",
       "      <td>2.086</td>\n",
       "      <td>2.096</td>\n",
       "      <td>2.640</td>\n",
       "      <td>3.828</td>\n",
       "      <td>4.013</td>\n",
       "      <td>0.823</td>\n",
       "      <td>0.297</td>\n",
       "      <td>0.918</td>\n",
       "      <td>0.259</td>\n",
       "      <td>0.024</td>\n",
       "      <td>0.185</td>\n",
       "      <td>-0.164</td>\n",
       "      <td>-0.390</td>\n",
       "      <td>-0.424</td>\n",
       "    </tr>\n",
       "    <tr>\n",
       "      <th>4</th>\n",
       "      <td>2.047</td>\n",
       "      <td>2.086</td>\n",
       "      <td>2.592</td>\n",
       "      <td>3.805</td>\n",
       "      <td>4.021</td>\n",
       "      <td>0.678</td>\n",
       "      <td>0.294</td>\n",
       "      <td>1.035</td>\n",
       "      <td>0.255</td>\n",
       "      <td>0.024</td>\n",
       "      <td>0.209</td>\n",
       "      <td>-0.172</td>\n",
       "      <td>-0.397</td>\n",
       "      <td>-0.426</td>\n",
       "    </tr>\n",
       "    <tr>\n",
       "      <th>5</th>\n",
       "      <td>2.051</td>\n",
       "      <td>2.078</td>\n",
       "      <td>2.705</td>\n",
       "      <td>3.973</td>\n",
       "      <td>4.013</td>\n",
       "      <td>0.656</td>\n",
       "      <td>0.292</td>\n",
       "      <td>1.131</td>\n",
       "      <td>0.261</td>\n",
       "      <td>0.035</td>\n",
       "      <td>0.058</td>\n",
       "      <td>-0.174</td>\n",
       "      <td>-0.395</td>\n",
       "      <td>-0.428</td>\n",
       "    </tr>\n",
       "    <tr>\n",
       "      <th>6</th>\n",
       "      <td>2.081</td>\n",
       "      <td>2.087</td>\n",
       "      <td>2.828</td>\n",
       "      <td>4.077</td>\n",
       "      <td>4.178</td>\n",
       "      <td>0.280</td>\n",
       "      <td>0.389</td>\n",
       "      <td>0.971</td>\n",
       "      <td>0.106</td>\n",
       "      <td>0.042</td>\n",
       "      <td>0.006</td>\n",
       "      <td>-0.178</td>\n",
       "      <td>-0.399</td>\n",
       "      <td>-0.427</td>\n",
       "    </tr>\n",
       "  </tbody>\n",
       "</table>\n",
       "</div>"
      ],
      "text/plain": [
       "    2004   2005   2006   2007   2008   2009   2010   2011   2012   2013  \\\n",
       "0  2.037  2.093  2.342  3.578  4.027  1.729  0.296  0.589  0.296  0.014   \n",
       "1  2.049  2.077  2.362  3.575  4.034  1.160  0.299  0.680  0.281  0.017   \n",
       "2  2.027  2.070  2.535  3.702  4.106  0.966  0.295  0.624  0.264  0.020   \n",
       "3  2.086  2.096  2.640  3.828  4.013  0.823  0.297  0.918  0.259  0.024   \n",
       "4  2.047  2.086  2.592  3.805  4.021  0.678  0.294  1.035  0.255  0.024   \n",
       "5  2.051  2.078  2.705  3.973  4.013  0.656  0.292  1.131  0.261  0.035   \n",
       "6  2.081  2.087  2.828  4.077  4.178  0.280  0.389  0.971  0.106  0.042   \n",
       "\n",
       "    2014   2015   2016   2017  \n",
       "0  0.130 -0.123 -0.284 -0.411  \n",
       "1  0.097 -0.095 -0.284 -0.416  \n",
       "2  0.130 -0.126 -0.335 -0.423  \n",
       "3  0.185 -0.164 -0.390 -0.424  \n",
       "4  0.209 -0.172 -0.397 -0.426  \n",
       "5  0.058 -0.174 -0.395 -0.428  \n",
       "6  0.006 -0.178 -0.399 -0.427  "
      ]
     },
     "execution_count": 66,
     "metadata": {},
     "output_type": "execute_result"
    }
   ],
   "source": [
    "data.head(7)"
   ]
  },
  {
   "cell_type": "code",
   "execution_count": 191,
   "metadata": {
    "collapsed": true
   },
   "outputs": [],
   "source": [
    "train = pd.read_csv('train_cleaned3.csv')\n",
    "test = pd.read_csv('test_cleaned3.csv')"
   ]
  },
  {
   "cell_type": "code",
   "execution_count": 192,
   "metadata": {},
   "outputs": [
    {
     "data": {
      "text/plain": [
       "portfolio_id          0\n",
       "office_id             0\n",
       "pf_category           0\n",
       "sold                  0\n",
       "country_code          0\n",
       "euribor_rate          0\n",
       "currency              0\n",
       "libor_rate            0\n",
       "bought                0\n",
       "indicator_code        0\n",
       "type                  0\n",
       "hedge_value           0\n",
       "status                0\n",
       "start_year            0\n",
       "start_month           0\n",
       "sell_year             0\n",
       "sell_month            0\n",
       "start_week            0\n",
       "start_weekday_name    0\n",
       "sell_week             0\n",
       "sell_weekday_name     0\n",
       "profit                0\n",
       "period                0\n",
       "return                0\n",
       "dtype: int64"
      ]
     },
     "execution_count": 192,
     "metadata": {},
     "output_type": "execute_result"
    }
   ],
   "source": [
    "train.isnull().sum()"
   ]
  },
  {
   "cell_type": "code",
   "execution_count": 162,
   "metadata": {
    "collapsed": true
   },
   "outputs": [],
   "source": [
    "train['profit']=train['profit']>0\n",
    "test['profit']=test['profit']>0"
   ]
  },
  {
   "cell_type": "code",
   "execution_count": 163,
   "metadata": {},
   "outputs": [],
   "source": [
    "train['profit']=train['profit'].map({True:1, False:0})\n",
    "test['profit']=test['profit'].map({True:1, False:0})"
   ]
  },
  {
   "cell_type": "code",
   "execution_count": 271,
   "metadata": {},
   "outputs": [
    {
     "data": {
      "text/plain": [
       "Index(['office_id', 'euribor_rate', 'currency', 'libor_rate', 'indicator_code',\n",
       "       'type', 'hedge_value', 'status', 'start_year', 'start_month',\n",
       "       'start_week', 'start_weekday_name', 'profit', 'period'],\n",
       "      dtype='object')"
      ]
     },
     "execution_count": 271,
     "metadata": {},
     "output_type": "execute_result"
    }
   ],
   "source": [
    "train_X.columns"
   ]
  },
  {
   "cell_type": "code",
   "execution_count": 165,
   "metadata": {},
   "outputs": [
    {
     "data": {
      "text/plain": [
       "Index(['portfolio_id', 'office_id', 'pf_category', 'sold', 'country_code',\n",
       "       'euribor_rate', 'currency', 'libor_rate', 'bought', 'indicator_code',\n",
       "       'type', 'hedge_value', 'status', 'start_year', 'start_month',\n",
       "       'sell_year', 'sell_month', 'start_week', 'start_weekday_name',\n",
       "       'sell_week', 'sell_weekday_name', 'profit', 'period', 'return'],\n",
       "      dtype='object')"
      ]
     },
     "execution_count": 165,
     "metadata": {},
     "output_type": "execute_result"
    }
   ],
   "source": [
    "train.columns"
   ]
  },
  {
   "cell_type": "code",
   "execution_count": 193,
   "metadata": {
    "collapsed": true
   },
   "outputs": [],
   "source": [
    "train['valid']=train['return']<0.08"
   ]
  },
  {
   "cell_type": "code",
   "execution_count": 194,
   "metadata": {},
   "outputs": [
    {
     "data": {
      "text/plain": [
       "True     9356\n",
       "False      10\n",
       "Name: valid, dtype: int64"
      ]
     },
     "execution_count": 194,
     "metadata": {},
     "output_type": "execute_result"
    }
   ],
   "source": [
    "train['valid'].value_counts()"
   ]
  },
  {
   "cell_type": "code",
   "execution_count": 195,
   "metadata": {},
   "outputs": [],
   "source": [
    "train=train[train['valid']==True]"
   ]
  },
  {
   "cell_type": "code",
   "execution_count": 196,
   "metadata": {
    "collapsed": true
   },
   "outputs": [],
   "source": [
    "train_X=train.drop(['portfolio_id', 'pf_category', 'sold', 'country_code', 'bought', 'sell_year', 'sell_month', \n",
    "                   'sell_week', 'sell_weekday_name', 'valid'], 1)"
   ]
  },
  {
   "cell_type": "code",
   "execution_count": 197,
   "metadata": {},
   "outputs": [],
   "source": [
    "train_X=train_X.drop_duplicates()"
   ]
  },
  {
   "cell_type": "code",
   "execution_count": 148,
   "metadata": {
    "collapsed": true
   },
   "outputs": [],
   "source": [
    "#train_X=train.drop(['portfolio_id', 'pf_category', 'country_code', 'type', 'start_year', 'start_month', \n",
    "#                   'start_week', 'start_weekday_name', 'period', 'valid'], 1)"
   ]
  },
  {
   "cell_type": "code",
   "execution_count": 198,
   "metadata": {
    "collapsed": true
   },
   "outputs": [],
   "source": [
    "train_y=train_X['return']"
   ]
  },
  {
   "cell_type": "code",
   "execution_count": 199,
   "metadata": {
    "collapsed": true
   },
   "outputs": [],
   "source": [
    "train_X=train_X.drop(['return'], 1)"
   ]
  },
  {
   "cell_type": "code",
   "execution_count": 201,
   "metadata": {},
   "outputs": [],
   "source": [
    "test_X=test.drop(['portfolio_id', 'pf_category', 'sold', 'country_code', 'bought', 'sell_year', 'sell_month', \n",
    "                   'sell_week', 'sell_weekday_name'], 1)"
   ]
  },
  {
   "cell_type": "code",
   "execution_count": 202,
   "metadata": {},
   "outputs": [],
   "source": [
    "train_X['status']=train_X['status'].map({True:1, False:0})\n",
    "test_X['status']=test_X['status'].map({True:1, False:0})"
   ]
  },
  {
   "cell_type": "code",
   "execution_count": 203,
   "metadata": {
    "collapsed": true
   },
   "outputs": [],
   "source": [
    "train_X=encoder(train_X)"
   ]
  },
  {
   "cell_type": "code",
   "execution_count": 204,
   "metadata": {},
   "outputs": [],
   "source": [
    "test_X=encoder(test_X)"
   ]
  },
  {
   "cell_type": "code",
   "execution_count": 205,
   "metadata": {
    "collapsed": true
   },
   "outputs": [],
   "source": [
    "train_X=train_X.reset_index(drop=True)\n",
    "train_y=train_y.reset_index(drop=True)"
   ]
  },
  {
   "cell_type": "code",
   "execution_count": 180,
   "metadata": {
    "collapsed": true
   },
   "outputs": [],
   "source": [
    "train_X['rate_diff']=train_X['libor_rate']-train_X['euribor_rate']*100\n",
    "test_X['rate_diff']=test_X['libor_rate']-test_X['euribor_rate']*100"
   ]
  },
  {
   "cell_type": "code",
   "execution_count": 181,
   "metadata": {
    "collapsed": true
   },
   "outputs": [],
   "source": [
    "def encoder(data):\n",
    "    for col in data.columns:\n",
    "        if data.dtypes[col] == \"O\":\n",
    "            le = preprocessing.LabelEncoder()\n",
    "            data[col]=le.fit_transform(data[col])\n",
    "    return data\n"
   ]
  },
  {
   "cell_type": "code",
   "execution_count": 10,
   "metadata": {},
   "outputs": [
    {
     "ename": "NameError",
     "evalue": "name 'data' is not defined",
     "output_type": "error",
     "traceback": [
      "\u001b[0;31m---------------------------------------------------------------------------\u001b[0m",
      "\u001b[0;31mNameError\u001b[0m                                 Traceback (most recent call last)",
      "\u001b[0;32m<ipython-input-10-402631931fe2>\u001b[0m in \u001b[0;36m<module>\u001b[0;34m()\u001b[0m\n\u001b[1;32m      1\u001b[0m \u001b[0;32mfor\u001b[0m \u001b[0mi\u001b[0m \u001b[0;32min\u001b[0m \u001b[0mrange\u001b[0m\u001b[0;34m(\u001b[0m\u001b[0mlen\u001b[0m\u001b[0;34m(\u001b[0m\u001b[0mtrain\u001b[0m\u001b[0;34m)\u001b[0m\u001b[0;34m)\u001b[0m\u001b[0;34m:\u001b[0m\u001b[0;34m\u001b[0m\u001b[0m\n\u001b[1;32m      2\u001b[0m     \u001b[0;32mif\u001b[0m \u001b[0mtrain\u001b[0m\u001b[0;34m[\u001b[0m\u001b[0;34m'currency'\u001b[0m\u001b[0;34m]\u001b[0m\u001b[0;34m[\u001b[0m\u001b[0mi\u001b[0m\u001b[0;34m]\u001b[0m\u001b[0;34m==\u001b[0m\u001b[0;34m'EUR'\u001b[0m\u001b[0;34m:\u001b[0m\u001b[0;34m\u001b[0m\u001b[0m\n\u001b[0;32m----> 3\u001b[0;31m         \u001b[0mtrain\u001b[0m\u001b[0;34m[\u001b[0m\u001b[0;34m'libor_rate'\u001b[0m\u001b[0;34m]\u001b[0m\u001b[0;34m[\u001b[0m\u001b[0mi\u001b[0m\u001b[0;34m]\u001b[0m\u001b[0;34m=\u001b[0m\u001b[0mdata\u001b[0m\u001b[0;34m[\u001b[0m\u001b[0mtrain\u001b[0m\u001b[0;34m[\u001b[0m\u001b[0;34m'start_year'\u001b[0m\u001b[0;34m]\u001b[0m\u001b[0;34m[\u001b[0m\u001b[0mi\u001b[0m\u001b[0;34m]\u001b[0m\u001b[0;34m]\u001b[0m\u001b[0;34m[\u001b[0m\u001b[0mtrain\u001b[0m\u001b[0;34m[\u001b[0m\u001b[0;34m'start_month'\u001b[0m\u001b[0;34m]\u001b[0m\u001b[0;34m[\u001b[0m\u001b[0mi\u001b[0m\u001b[0;34m]\u001b[0m\u001b[0;34m-\u001b[0m\u001b[0;36m1\u001b[0m\u001b[0;34m]\u001b[0m\u001b[0;34m\u001b[0m\u001b[0m\n\u001b[0m\u001b[1;32m      4\u001b[0m \u001b[0;32mfor\u001b[0m \u001b[0mi\u001b[0m \u001b[0;32min\u001b[0m \u001b[0mrange\u001b[0m\u001b[0;34m(\u001b[0m\u001b[0mlen\u001b[0m\u001b[0;34m(\u001b[0m\u001b[0mtest\u001b[0m\u001b[0;34m)\u001b[0m\u001b[0;34m)\u001b[0m\u001b[0;34m:\u001b[0m\u001b[0;34m\u001b[0m\u001b[0m\n\u001b[1;32m      5\u001b[0m     \u001b[0;32mif\u001b[0m \u001b[0mtest\u001b[0m\u001b[0;34m[\u001b[0m\u001b[0;34m'currency'\u001b[0m\u001b[0;34m]\u001b[0m\u001b[0;34m[\u001b[0m\u001b[0mi\u001b[0m\u001b[0;34m]\u001b[0m\u001b[0;34m==\u001b[0m\u001b[0;34m'EUR'\u001b[0m\u001b[0;34m:\u001b[0m\u001b[0;34m\u001b[0m\u001b[0m\n",
      "\u001b[0;31mNameError\u001b[0m: name 'data' is not defined"
     ]
    }
   ],
   "source": [
    "for i in range(len(train)):\n",
    "    if train['currency'][i]=='EUR':\n",
    "        train['libor_rate'][i]=data[train['start_year'][i]][train['start_month'][i]-1]\n",
    "for i in range(len(test)):\n",
    "    if test['currency'][i]=='EUR':        \n",
    "        test['libor_rate'][i]=data[test['start_year'][i]][test['start_month'][i]-1]"
   ]
  },
  {
   "cell_type": "code",
   "execution_count": 221,
   "metadata": {},
   "outputs": [
    {
     "name": "stdout",
     "output_type": "stream",
     "text": [
      "Model building: XGB1\n",
      "[0]\ttrain-rmse:0.437859\ttest-rmse:0.437888\n",
      "Multiple eval metrics have been passed: 'test-rmse' will be used for early stopping.\n",
      "\n",
      "Will train until test-rmse hasn't improved in 100 rounds.\n",
      "[20]\ttrain-rmse:0.053636\ttest-rmse:0.053711\n",
      "[40]\ttrain-rmse:0.007127\ttest-rmse:0.007395\n",
      "[60]\ttrain-rmse:0.001898\ttest-rmse:0.003046\n",
      "[80]\ttrain-rmse:0.001289\ttest-rmse:0.002807\n",
      "[100]\ttrain-rmse:0.001074\ttest-rmse:0.002747\n",
      "[120]\ttrain-rmse:0.000938\ttest-rmse:0.00272\n",
      "[140]\ttrain-rmse:0.00083\ttest-rmse:0.002708\n",
      "[160]\ttrain-rmse:0.000755\ttest-rmse:0.002698\n",
      "[180]\ttrain-rmse:0.000711\ttest-rmse:0.002694\n",
      "[200]\ttrain-rmse:0.000684\ttest-rmse:0.002693\n",
      "[220]\ttrain-rmse:0.000662\ttest-rmse:0.002696\n",
      "[240]\ttrain-rmse:0.000649\ttest-rmse:0.002693\n",
      "[260]\ttrain-rmse:0.000644\ttest-rmse:0.002696\n",
      "[280]\ttrain-rmse:0.000632\ttest-rmse:0.002691\n",
      "[300]\ttrain-rmse:0.000628\ttest-rmse:0.002692\n",
      "[320]\ttrain-rmse:0.000619\ttest-rmse:0.00269\n",
      "[340]\ttrain-rmse:0.000618\ttest-rmse:0.002691\n",
      "[360]\ttrain-rmse:0.000613\ttest-rmse:0.00269\n",
      "[380]\ttrain-rmse:0.000606\ttest-rmse:0.002694\n",
      "[400]\ttrain-rmse:0.000603\ttest-rmse:0.002696\n",
      "[420]\ttrain-rmse:0.0006\ttest-rmse:0.002697\n",
      "[440]\ttrain-rmse:0.000598\ttest-rmse:0.002696\n",
      "[460]\ttrain-rmse:0.000597\ttest-rmse:0.002697\n",
      "Stopping. Best iteration:\n",
      "[368]\ttrain-rmse:0.000609\ttest-rmse:0.002688\n",
      "\n",
      "[0.97943323542864225]\n",
      "[0]\ttrain-rmse:0.437882\ttest-rmse:0.437855\n",
      "Multiple eval metrics have been passed: 'test-rmse' will be used for early stopping.\n",
      "\n",
      "Will train until test-rmse hasn't improved in 100 rounds.\n",
      "[20]\ttrain-rmse:0.053639\ttest-rmse:0.053525\n",
      "[40]\ttrain-rmse:0.00717\ttest-rmse:0.007262\n",
      "[60]\ttrain-rmse:0.002009\ttest-rmse:0.002759\n",
      "[80]\ttrain-rmse:0.00143\ttest-rmse:0.002485\n",
      "[100]\ttrain-rmse:0.001188\ttest-rmse:0.0024\n",
      "[120]\ttrain-rmse:0.00103\ttest-rmse:0.002373\n",
      "[140]\ttrain-rmse:0.000919\ttest-rmse:0.002348\n",
      "[160]\ttrain-rmse:0.000821\ttest-rmse:0.002347\n",
      "[180]\ttrain-rmse:0.000755\ttest-rmse:0.002331\n",
      "[200]\ttrain-rmse:0.000722\ttest-rmse:0.002326\n",
      "[220]\ttrain-rmse:0.000705\ttest-rmse:0.002328\n",
      "[240]\ttrain-rmse:0.000668\ttest-rmse:0.002328\n",
      "[260]\ttrain-rmse:0.000651\ttest-rmse:0.002319\n",
      "[280]\ttrain-rmse:0.000638\ttest-rmse:0.00232\n",
      "[300]\ttrain-rmse:0.000629\ttest-rmse:0.002315\n",
      "[320]\ttrain-rmse:0.000623\ttest-rmse:0.002316\n",
      "[340]\ttrain-rmse:0.000617\ttest-rmse:0.002315\n",
      "[360]\ttrain-rmse:0.000605\ttest-rmse:0.002316\n",
      "[380]\ttrain-rmse:0.000601\ttest-rmse:0.002317\n",
      "Stopping. Best iteration:\n",
      "[294]\ttrain-rmse:0.00063\ttest-rmse:0.002315\n",
      "\n",
      "[0.97943323542864225, 0.98443103538874122]\n",
      "[0]\ttrain-rmse:0.437883\ttest-rmse:0.4379\n",
      "Multiple eval metrics have been passed: 'test-rmse' will be used for early stopping.\n",
      "\n",
      "Will train until test-rmse hasn't improved in 100 rounds.\n",
      "[20]\ttrain-rmse:0.053644\ttest-rmse:0.053718\n",
      "[40]\ttrain-rmse:0.007234\ttest-rmse:0.007276\n",
      "[60]\ttrain-rmse:0.002142\ttest-rmse:0.002295\n",
      "[80]\ttrain-rmse:0.001541\ttest-rmse:0.001938\n",
      "[100]\ttrain-rmse:0.001303\ttest-rmse:0.001894\n",
      "[120]\ttrain-rmse:0.001115\ttest-rmse:0.001854\n",
      "[140]\ttrain-rmse:0.000978\ttest-rmse:0.001836\n",
      "[160]\ttrain-rmse:0.000873\ttest-rmse:0.001847\n",
      "[180]\ttrain-rmse:0.000795\ttest-rmse:0.001847\n",
      "[200]\ttrain-rmse:0.000764\ttest-rmse:0.001848\n",
      "[220]\ttrain-rmse:0.000731\ttest-rmse:0.00185\n",
      "Stopping. Best iteration:\n",
      "[139]\ttrain-rmse:0.000986\ttest-rmse:0.001836\n",
      "\n",
      "[0.97943323542864225, 0.98443103538874122, 0.99035042436489951]\n",
      "0.984729758421\n"
     ]
    }
   ],
   "source": [
    "import sys\n",
    "import random\n",
    "import operator\n",
    "import pandas as pd\n",
    "import numpy as np\n",
    "import xgboost as xgb\n",
    "import lightgbm as lgb\n",
    "from sklearn import preprocessing, metrics, ensemble, neighbors, linear_model, tree, model_selection\n",
    "from sklearn.model_selection import KFold, StratifiedKFold\n",
    "from sklearn import manifold, decomposition\n",
    "from sklearn.random_projection import GaussianRandomProjection, SparseRandomProjection\n",
    "\n",
    "def encoder(data):\n",
    "    for col in data.columns:\n",
    "        if data.dtypes[col] == \"O\":\n",
    "            le = preprocessing.LabelEncoder()\n",
    "            data[col]=le.fit_transform(data[col])\n",
    "    return data\n",
    "\n",
    "\n",
    "def create_feature_map(features):\n",
    "    outfile = open('xgb.fmap', 'w')\n",
    "    for i, feat in enumerate(features):\n",
    "        outfile.write('{0}\\t{1}\\tq\\n'.format(i,feat))\n",
    "    outfile.close()\n",
    "\n",
    "def runXGB(train_X, train_y, test_X, test_y=None, test_X2=None, feature_names=None, seed_val=0, rounds=500, dep=10, eta=0.1):\n",
    "    params = {}\n",
    "    params[\"objective\"] = \"reg:linear\"\n",
    "    params['eval_metric'] = 'rmse'\n",
    "    params[\"eta\"] = eta\n",
    "    params[\"subsample\"] = 0.7\n",
    "    params[\"min_child_weight\"] = 5\n",
    "    params[\"colsample_bytree\"] = 0.7\n",
    "    params[\"max_depth\"] = dep\n",
    "\n",
    "    params[\"silent\"] = 1\n",
    "    params[\"seed\"] = seed_val\n",
    "    #params[\"max_delta_step\"] = 2\n",
    "    #params[\"gamma\"] = 0.5\n",
    "    num_rounds = rounds\n",
    "\n",
    "    plst = list(params.items())\n",
    "    xgtrain = xgb.DMatrix(train_X, label=train_y)\n",
    "\n",
    "    if test_y is not None:\n",
    "        xgtest = xgb.DMatrix(test_X, label=test_y)\n",
    "        watchlist = [ (xgtrain,'train'), (xgtest, 'test') ]\n",
    "        model = xgb.train(plst, xgtrain, num_rounds, watchlist, early_stopping_rounds=100, verbose_eval=20)\n",
    "    else:\n",
    "        xgtest = xgb.DMatrix(test_X)\n",
    "        model = xgb.train(plst, xgtrain, num_rounds)\n",
    "\n",
    "    if feature_names is not None:\n",
    "        create_feature_map(feature_names)\n",
    "        model.dump_model('xgbmodel.txt', 'xgb.fmap', with_stats=True)\n",
    "        importance = model.get_fscore(fmap='xgb.fmap')\n",
    "        importance = sorted(importance.items(), key=operator.itemgetter(1), reverse=True)\n",
    "        imp_df = pd.DataFrame(importance, columns=['feature','fscore'])\n",
    "        imp_df['fscore'] = imp_df['fscore'] / imp_df['fscore'].sum()\n",
    "        imp_df.to_csv(\"imp_feat.txt\", index=False)\n",
    "\n",
    "    pred_test_y = model.predict(xgtest, ntree_limit=model.best_ntree_limit)\n",
    "    pred_test_y2 = model.predict(xgb.DMatrix(test_X2), ntree_limit=model.best_ntree_limit)\n",
    "\n",
    "    loss = 0\n",
    "    if test_y is not None:\n",
    "        loss = metrics.r2_score(test_y, pred_test_y)\n",
    "        return pred_test_y, loss, pred_test_y2\n",
    "    else:\n",
    "        return pred_test_y, loss, pred_test_y2\n",
    "\n",
    "def runLGB(train_X, train_y, test_X, test_y=None, test_X2=None, feature_names=None, seed_val=0, rounds=500, dep=10, eta=0.1):\n",
    "    params = {}\n",
    "    params[\"objective\"] = \"regression\"\n",
    "    params['metric'] = 'RMSE'\n",
    "    params[\"max_depth\"] = dep\n",
    "    params[\"min_data_in_leaf\"] = 128   \n",
    "    params[\"learning_rate\"] = eta\n",
    "    params[\"bagging_fraction\"] = 0.7\n",
    "    params[\"feature_fraction\"] = 0.5\n",
    "    params[\"bagging_freq\"] = 10\n",
    "    params[\"bagging_seed\"] = seed_val\n",
    "    params[\"verbosity\"] = 0\n",
    "    num_rounds = rounds\n",
    "\n",
    "    plst = list(params.items())\n",
    "    lgtrain = lgb.Dataset(train_X, label=train_y)\n",
    "\n",
    "    if test_y is not None:\n",
    "        lgtest = lgb.Dataset(test_X, label=test_y)\n",
    "        model = lgb.train(params, lgtrain, num_rounds, valid_sets=[lgtest], early_stopping_rounds=100, verbose_eval=20)\n",
    "    else:\n",
    "        lgtest = lgb.DMatrix(test_X)\n",
    "        model = lgb.train(params, lgtrain, num_rounds)\n",
    "\n",
    "    pred_test_y = model.predict(test_X, num_iteration=model.best_iteration)\n",
    "    pred_test_y2 = model.predict(test_X2, num_iteration=model.best_iteration)\n",
    "\n",
    "    loss = 0\n",
    "    if test_y is not None:\n",
    "        loss = metrics.r2_score(test_y, pred_test_y)\n",
    "        print(loss)\n",
    "        return pred_test_y, loss, pred_test_y2\n",
    "    else:\n",
    "        return pred_test_y, loss, pred_test_y2\n",
    "\n",
    "def runET(train_X, train_y, test_X, test_y=None, test_X2=None, depth=10, leaf=100, feat=0.7):\n",
    "    model = ensemble.ExtraTreesRegressor(\n",
    "            n_estimators = 100,\n",
    "                    max_depth = depth,\n",
    "                    min_samples_split = 2,\n",
    "                    min_samples_leaf = leaf,\n",
    "                    max_features =  feat,\n",
    "                    n_jobs = -1,\n",
    "                    random_state = 0)\n",
    "    model.fit(train_X, train_y)\n",
    "    train_preds = model.predict(train_X)\n",
    "    test_preds = model.predict(test_X)\n",
    "    test_preds2 = model.predict(test_X2)\n",
    "    test_loss = 0\n",
    "    if test_y is not None:\n",
    "        train_loss = metrics.r2_score(train_y, train_preds)\n",
    "        test_loss = metrics.r2_score(test_y, test_preds)\n",
    "        print(\"Depth, leaf, feat : \", depth, leaf, feat)\n",
    "        print(\"Train and Test loss : \", train_loss, test_loss)\n",
    "    return test_preds, test_loss, test_preds2\n",
    "\n",
    "if __name__ == \"__main__\":\n",
    "    #model_name = \"ET\"\n",
    "    for model_name in [\"XGB1\"]:\n",
    "\n",
    "        #train = pd.read_csv('train_cleaned3.csv')\n",
    "        #test = pd.read_csv('test_cleaned3.csv')\n",
    "        \n",
    "        # handle missing values \n",
    "        #train['hedge_value'].fillna('Unknown', inplace=True)\n",
    "        #train['hedge_value']=train['hedge_value'].map({True:1, False:0, 'Unknown':2})\n",
    "        #test['hedge_value'].fillna('Unknown', inplace=True)\n",
    "        #test['hedge_value']=test['hedge_value'].map({True:1, False:0, 'Unknown':2})\n",
    "\n",
    "        # missing values for numeric fields\n",
    "        #train['sold'].fillna(train['sold'].median(), inplace=True)\n",
    "        #train['bought'].fillna(train['bought'].median(), inplace=True)\n",
    "        #train['libor_rate'].fillna(train['libor_rate'].median(), inplace=True)\n",
    "        #test['libor_rate'].fillna(train['libor_rate'].median(), inplace=True)\n",
    "        \n",
    "        \n",
    "        #train['rate_diff']=train['libor_rate']-train['euribor_rate']*100\n",
    "        #test['rate_diff']=test['libor_rate']-test['euribor_rate']*100\n",
    "\n",
    "        #train['profit']=train['sold']-train['bought']\n",
    "        #test['profit']=test['sold']-test['bought']\n",
    "\n",
    "        #train['indicator_code'].fillna(False, inplace=True)\n",
    "        #train['indicator_code']=train['indicator_code'].map({True:1, False:0})\n",
    "        #test['indicator_code'].fillna(False, inplace=True)\n",
    "        #test['indicator_code']=test['indicator_code'].map({True:1, False:0})\n",
    "\n",
    "        #train['status'].fillna(False, inplace=True)\n",
    "        #test['status'].fillna(False, inplace=True)\n",
    "\n",
    "\n",
    "        \n",
    "        #train_y=train['return']\n",
    "        #train_id=train['portfolio_id']\n",
    "        #train_X = train.drop(['portfolio_id', 'return'], axis=1)\n",
    "\n",
    "        test_id=test['portfolio_id']\n",
    "        #test_X = test.drop(['portfolio_id'], axis=1)\n",
    "        \n",
    "        \n",
    "\n",
    "        \n",
    "        #train_X=encoder(train_X)\n",
    "        #test_X=encoder(test_X)\n",
    "        \n",
    "\n",
    "        print(\"Model building: \"+model_name)\n",
    "        kf = model_selection.KFold(n_splits=3, shuffle=True, random_state=2018)\n",
    "        cv_scores = []\n",
    "        pred_test_full = 0\n",
    "        pred_val_full = np.zeros(train_X.shape[0])\n",
    "        for dev_index, val_index in kf.split(train_X):\n",
    "            dev_X, val_X = train_X.iloc[dev_index,:], train_X.iloc[val_index,:]\n",
    "            dev_y, val_y = train_y[dev_index], train_y[val_index]\n",
    "\n",
    "            if model_name == \"XGB1\":\n",
    "                pred_val, loss, pred_test = runXGB(dev_X, dev_y, val_X, val_y, test_X, rounds=5000, feature_names=dev_X.columns.tolist())\n",
    "            elif model_name == \"LGB1\":\n",
    "                pred_val, loss, pred_test = runLGB(dev_X, dev_y, val_X, val_y, test_X, rounds=5000, dep=8)\n",
    "            elif model_name == 'ET1':\n",
    "                pred_val, loss, pred_test = runET(dev_X, dev_y, val_X, val_y, test_X)\n",
    "            \n",
    "            pred_val_full[val_index] = pred_val\n",
    "            pred_test_full = pred_test_full + pred_test\n",
    "            cv_scores.append(loss)\n",
    "            print(cv_scores)\n",
    "        pred_test_full /= 3.\n",
    "        print(metrics.r2_score(train_y, pred_val_full))\n",
    "\n",
    "        out_df = pd.DataFrame({\"portfolio_id\":test_id})\n",
    "        out_df[\"return\"] = pred_test_full\n",
    "        out_df.to_csv(\"pred_test_v5_\"+model_name+\"_1.csv\", index=False)\n",
    "\n",
    "        #out_df_both = pd.concat([out_df_both, out_df], 1)\n",
    "        #out_df[\"target\"] = pred_val_full\n",
    "        #out_df.to_csv(\"pred_val_v5_\"+model_name+\".csv\", index=False)\n",
    "\n",
    "        \n"
   ]
  },
  {
   "cell_type": "code",
   "execution_count": 220,
   "metadata": {},
   "outputs": [
    {
     "ename": "NameError",
     "evalue": "name 'out_df_both' is not defined",
     "output_type": "error",
     "traceback": [
      "\u001b[0;31m---------------------------------------------------------------------------\u001b[0m",
      "\u001b[0;31mNameError\u001b[0m                                 Traceback (most recent call last)",
      "\u001b[0;32m<ipython-input-220-078004404a58>\u001b[0m in \u001b[0;36m<module>\u001b[0;34m()\u001b[0m\n\u001b[0;32m----> 1\u001b[0;31m \u001b[0mout_df_both\u001b[0m\u001b[0;34m.\u001b[0m\u001b[0mto_csv\u001b[0m\u001b[0;34m(\u001b[0m\u001b[0;34m\"XGB_LGM.csv\"\u001b[0m\u001b[0;34m,\u001b[0m \u001b[0mindex\u001b[0m\u001b[0;34m=\u001b[0m\u001b[0;32mFalse\u001b[0m\u001b[0;34m)\u001b[0m\u001b[0;34m\u001b[0m\u001b[0m\n\u001b[0m",
      "\u001b[0;31mNameError\u001b[0m: name 'out_df_both' is not defined"
     ]
    }
   ],
   "source": [
    "out_df_both.to_csv(\"XGB_LGM.csv\", index=False)"
   ]
  },
  {
   "cell_type": "code",
   "execution_count": null,
   "metadata": {
    "collapsed": true
   },
   "outputs": [],
   "source": [
    "eta = 0.05\n",
    "\n",
    "[0.96962923260452127, 0.94939844860622691, 0.92801412380866888, 0.48970348102219197, 0.91807854251168419]\n",
    "#XGB[0.97735673648269161, 0.82467261729194052, 0.91752359835244546, 0.48529060871704288, 0.91163175470497182]\n",
    "\n",
    "# XGB 0.95166\n",
    "# LGM 0.95166"
   ]
  },
  {
   "cell_type": "code",
   "execution_count": null,
   "metadata": {
    "collapsed": true
   },
   "outputs": [],
   "source": [
    "eta = 0.25\n",
    "\n",
    "[0.96441609154814023, 0.94686158240036955, 0.90702481135800928, 0.48405576511039838, 0.91714492760615096]\n",
    "#XGB[0.97419470861096824, 0.83241910252213158, 0.90416982544175772, 0.48379562996523595, 0.91376495972474747]\n",
    "\n",
    "# XGB 0.95494\n",
    "# LGM 0.94849"
   ]
  },
  {
   "cell_type": "code",
   "execution_count": null,
   "metadata": {
    "collapsed": true
   },
   "outputs": [],
   "source": [
    "min_child_weight = 5\n",
    "\n",
    "#XGB[0.96123192150641179, 0.92499847970393267, 0.91222088645676691, 0.49021013291652693, 0.9115939680492654]\n",
    "\n",
    "# XGB 0.95606"
   ]
  },
  {
   "cell_type": "code",
   "execution_count": null,
   "metadata": {
    "collapsed": true
   },
   "outputs": [],
   "source": [
    "min_child_weight = 10\n",
    "\n",
    "#XGB[0.96067675033553679, 0.94153670645330523, 0.9193474462030452, 0.49120690947578682, 0.91130767686451419]\n",
    "\n",
    "# XGB 0.95188"
   ]
  },
  {
   "cell_type": "code",
   "execution_count": null,
   "metadata": {
    "collapsed": true
   },
   "outputs": [],
   "source": [
    "min_child_weight = 5, eta = 0.3\n",
    "\n",
    "# with rate_diff and profit\n",
    "\n",
    "#XGB[0.96228386033026592, 0.87852185863101606, 0.91929903898720844, 0.49633683289795771, 0.91948672579939217]\n",
    "\n",
    "# XGB 0.95962"
   ]
  },
  {
   "cell_type": "code",
   "execution_count": null,
   "metadata": {
    "collapsed": true
   },
   "outputs": [],
   "source": [
    "min_child_weight = 5, eta = 0.25\n",
    "\n",
    "# with rate_diff and profit\n",
    "\n",
    "#XGB[0.95535372661059881, 0.91261359072344284, 0.91535366754157654, 0.49829994717729131, 0.91691054944321126]\n",
    "\n",
    "# XGB 0.95952"
   ]
  },
  {
   "cell_type": "code",
   "execution_count": null,
   "metadata": {
    "collapsed": true
   },
   "outputs": [],
   "source": [
    "eta = 0.25\n",
    "# with rate_diff and profit\n",
    "\n",
    "#LGM[0.97116954887459617, 0.95828754844994368, 0.93658735876459953, 0.50418887836135151, 0.93093656537711733]\n",
    "\n",
    "# LGM "
   ]
  },
  {
   "cell_type": "code",
   "execution_count": null,
   "metadata": {
    "collapsed": true
   },
   "outputs": [],
   "source": [
    "# including year, month, week\n",
    "\n",
    "#LGM [0.96915407849053692, 0.95741100203029794, 0.93437326976621549, 0.50236379237204143, 0.92880294713785028]\n",
    "#XGB [0.9531253758380922, 0.93351803648109821, 0.92702710995735704, 0.49826822321467468, 0.93203914647209307]\n",
    "\n",
    "# LGM 0.96073 0.7\n",
    "# XGB 0.95853 0.3\n",
    "# Both 0.96147"
   ]
  },
  {
   "cell_type": "code",
   "execution_count": null,
   "metadata": {
    "collapsed": true
   },
   "outputs": [],
   "source": [
    "# Best on 12/12/2017\n",
    "\n",
    "['portfolio_id', 'office_id', 'pf_category', 'sold', 'country_code',\n",
    "'euribor_rate', 'currency', 'libor_rate', 'bought', 'indicator_code',\n",
    "'type', 'hedge_value', 'status', 'start_year', 'start_month',\n",
    "'sell_year', 'sell_month', 'start_week', 'start_weekday_name',\n",
    "'sell_week', 'sell_weekday_name', 'profit', 'period', 'return',\n",
    "'rate_diff']\n",
    "\n",
    "# LGM\n",
    "params[\"min_data_in_leaf\"] = 128   \n",
    "params[\"learning_rate\"] = 0.25\n",
    "params[\"bagging_fraction\"] = 0.7\n",
    "params[\"feature_fraction\"] = 0.5\n",
    "params[\"bagging_freq\"] = 5\n",
    "\n",
    "# XGB\n",
    "params[\"eta\"] = 0.25\n",
    "params[\"subsample\"] = 0.7\n",
    "params[\"min_child_weight\"] = 10\n",
    "params[\"colsample_bytree\"] = 0.7\n",
    "params[\"max_depth\"] = 8\n",
    "\n",
    "# XGB 0.96366\n",
    "# LGM 0.96007\n",
    "# Both 0.96411"
   ]
  },
  {
   "cell_type": "code",
   "execution_count": 94,
   "metadata": {},
   "outputs": [
    {
     "data": {
      "text/plain": [
       "GridSearchCV(cv=5, error_score='raise',\n",
       "       estimator=RandomForestRegressor(bootstrap=True, criterion='mse', max_depth=None,\n",
       "           max_features='auto', max_leaf_nodes=None,\n",
       "           min_impurity_decrease=0.0, min_impurity_split=None,\n",
       "           min_samples_leaf=1, min_samples_split=2,\n",
       "           min_weight_fraction_leaf=0.0, n_estimators=10, n_jobs=1,\n",
       "           oob_score=False, random_state=7, verbose=0, warm_start=False),\n",
       "       fit_params={}, iid=True, n_jobs=1,\n",
       "       param_grid={'n_estimators': [5, 10, 15, 20, 100, 200], 'max_depth': [2, 5, 8, 10, 12, 16], 'max_features': [0.1, 0.4, 0.6], 'min_samples_leaf': [2, 5, 10, 15]},\n",
       "       pre_dispatch='2*n_jobs', refit=True, scoring=None, verbose=0)"
      ]
     },
     "execution_count": 94,
     "metadata": {},
     "output_type": "execute_result"
    }
   ],
   "source": [
    "from sklearn.model_selection import cross_val_score\n",
    "from sklearn.ensemble import RandomForestRegressor\n",
    "\n",
    "forest_reg = RandomForestRegressor(random_state=7)#, max_features = 0.6, max_depth=10, n_estimators=5, min_samples_leaf=5)\n",
    "#scores = cross_val_score(forest_reg, train_X, train_y, scoring='r2', cv=5)\n",
    "#print(scores)\n",
    "#print('mean r2:',np.mean(scores))\n",
    "\n",
    "param_grid = {\n",
    "                 'n_estimators': [5, 10, 15, 20, 100, 200],\n",
    "                 'max_depth': [2, 5, 8, 10, 12, 16],\n",
    "                 'max_features' : [0.1, 0.4, 0.6],\n",
    "                 'min_samples_leaf' : [2, 5, 10, 15]\n",
    "             }\n",
    "\n",
    "from sklearn.grid_search import GridSearchCV\n",
    "\n",
    "grid_clf = GridSearchCV(forest_reg, param_grid, cv=5, ver)\n",
    "grid_clf.fit(train_X, train_y)"
   ]
  },
  {
   "cell_type": "code",
   "execution_count": 89,
   "metadata": {},
   "outputs": [
    {
     "data": {
      "text/plain": [
       "RandomForestRegressor(bootstrap=True, criterion='mse', max_depth=10,\n",
       "           max_features=0.6, max_leaf_nodes=None,\n",
       "           min_impurity_decrease=0.0, min_impurity_split=None,\n",
       "           min_samples_leaf=5, min_samples_split=2,\n",
       "           min_weight_fraction_leaf=0.0, n_estimators=5, n_jobs=1,\n",
       "           oob_score=False, random_state=7, verbose=0, warm_start=False)"
      ]
     },
     "execution_count": 89,
     "metadata": {},
     "output_type": "execute_result"
    }
   ],
   "source": [
    "grid_clf.best_estimator_"
   ]
  },
  {
   "cell_type": "code",
   "execution_count": 92,
   "metadata": {},
   "outputs": [
    {
     "data": {
      "image/png": "[encoded data removed]",
      "text/plain": [
       "<matplotlib.figure.Figure at 0x7f88d811beb8>"
      ]
     },
     "metadata": {},
     "output_type": "display_data"
    }
   ],
   "source": [
    "from matplotlib import pyplot as plt\n",
    "importances=(forest_reg.feature_importances_)\n",
    "indices = np.argsort(importances)\n",
    "features = train_X.columns\n",
    "plt.title('Feature Importances')\n",
    "plt.barh(range(len(indices)), importances[indices], color='b', align='center')\n",
    "plt.yticks(range(len(indices)), features) ## removed [indices]\n",
    "plt.xlabel('Relative Importance')\n",
    "plt.show()"
   ]
  },
  {
   "cell_type": "code",
   "execution_count": 91,
   "metadata": {},
   "outputs": [
    {
     "data": {
      "text/html": [
       "<a href='sub17.csv' target='_blank'>sub17.csv</a><br>"
      ],
      "text/plain": [
       "/home/dj/Desktop/Competition/Untitled Folder/b0a982ac-d-BW2017Data/sub17.csv"
      ]
     },
     "execution_count": 91,
     "metadata": {},
     "output_type": "execute_result"
    }
   ],
   "source": [
    "from IPython.display import FileLink\n",
    "\n",
    "forest_reg = RandomForestRegressor(random_state=7, max_features = 0.6, max_depth=10, n_estimators=5, min_samples_leaf=5)\n",
    "forest_reg.fit(train_X, train_y)\n",
    "preds = forest_reg.predict(test_X)\n",
    "\n",
    "sub = pd.DataFrame({'portfolio_id': test_id, 'return': preds})\n",
    "filename = 'sub17.csv'\n",
    "sub.to_csv(filename, index=False)\n",
    "FileLink(filename)  # lb 0."
   ]
  },
  {
   "cell_type": "code",
   "execution_count": 73,
   "metadata": {},
   "outputs": [
    {
     "data": {
      "text/plain": [
       "Index(['portfolio_id', 'office_id', 'pf_category', 'sold', 'country_code',\n",
       "       'euribor_rate', 'currency', 'libor_rate', 'bought', 'indicator_code',\n",
       "       'type', 'hedge_value', 'status', 'start_year', 'start_month',\n",
       "       'sell_year', 'sell_month', 'start_week', 'start_weekday_name',\n",
       "       'sell_week', 'sell_weekday_name', 'profit', 'period', 'return',\n",
       "       'rate_diff'],\n",
       "      dtype='object')"
      ]
     },
     "execution_count": 73,
     "metadata": {},
     "output_type": "execute_result"
    }
   ],
   "source": [
    "train.columns"
   ]
  },
  {
   "cell_type": "code",
   "execution_count": 40,
   "metadata": {
    "collapsed": true
   },
   "outputs": [],
   "source": [
    "train = pd.read_csv('train_cleaned3.csv')\n",
    "test = pd.read_csv('test_cleaned3.csv')\n",
    "        \n",
    "        # handle missing values \n",
    "        #train['hedge_value'].fillna('Unknown', inplace=True)\n",
    "        #train['hedge_value']=train['hedge_value'].map({True:1, False:0, 'Unknown':2})\n",
    "        #test['hedge_value'].fillna('Unknown', inplace=True)\n",
    "        #test['hedge_value']=test['hedge_value'].map({True:1, False:0, 'Unknown':2})\n",
    "\n",
    "        # missing values for numeric fields\n",
    "train['sold'].fillna(train['sold'].median(), inplace=True)\n",
    "train['bought'].fillna(train['bought'].median(), inplace=True)\n",
    "train['libor_rate'].fillna(train['libor_rate'].median(), inplace=True)\n",
    "test['libor_rate'].fillna(train['libor_rate'].median(), inplace=True)\n",
    "        \n",
    "        \n",
    "train['rate_diff']=train['libor_rate']-train['euribor_rate']*100\n",
    "test['rate_diff']=test['libor_rate']-test['euribor_rate']*100\n",
    "\n",
    "        #train['profit']=train['sold']-train['bought']\n",
    "        #test['profit']=test['sold']-test['bought']\n",
    "\n",
    "        #train['indicator_code'].fillna(False, inplace=True)\n",
    "        #train['indicator_code']=train['indicator_code'].map({True:1, False:0})\n",
    "        #test['indicator_code'].fillna(False, inplace=True)\n",
    "        #test['indicator_code']=test['indicator_code'].map({True:1, False:0})\n",
    "\n",
    "        #train['status'].fillna(False, inplace=True)\n",
    "        #test['status'].fillna(False, inplace=True)\n",
    "\n",
    "\n",
    "        \n",
    "train_y=train['return']\n",
    "train_id=train['portfolio_id']\n",
    "train_X = train.drop(['portfolio_id', 'return'], axis=1)\n",
    "\n",
    "test_id=test['portfolio_id']\n",
    "test_X = test.drop(['portfolio_id'], axis=1)\n",
    "        \n",
    "        \n",
    "\n",
    "        \n",
    "train_X=encoder(train_X)\n",
    "test_X=encoder(test_X)\n",
    "        \n"
   ]
  },
  {
   "cell_type": "code",
   "execution_count": 41,
   "metadata": {
    "collapsed": true
   },
   "outputs": [],
   "source": [
    "def encoder(data):\n",
    "    for col in data.columns:\n",
    "        if data.dtypes[col] == \"O\":\n",
    "            le = preprocessing.LabelEncoder()\n",
    "            data[col]=le.fit_transform(data[col])\n",
    "    return data\n"
   ]
  },
  {
   "cell_type": "code",
   "execution_count": 66,
   "metadata": {
    "collapsed": true
   },
   "outputs": [],
   "source": [
    "def runET(train_X, train_y, test_X, test_y=None, test_X2=None, depth=20, leaf=5, feat=0.7):\n",
    "    model = ensemble.ExtraTreesRegressor(\n",
    "            n_estimators = 100,\n",
    "                    max_depth = depth,\n",
    "                    min_samples_split = 2,\n",
    "                    min_samples_leaf = leaf,\n",
    "                    max_features =  feat,\n",
    "                    n_jobs = -1,\n",
    "                    random_state = 0)\n",
    "    model.fit(train_X, train_y)\n",
    "    train_preds = model.predict(train_X)\n",
    "    test_preds = model.predict(test_X)\n",
    "    test_preds2 = model.predict(test_X2)\n",
    "    test_loss = 0\n",
    "    if test_y is not None:\n",
    "        train_loss = metrics.r2_score(train_y, train_preds)\n",
    "        test_loss = metrics.r2_score(test_y, test_preds)\n",
    "        print(\"Depth, leaf, feat : \", depth, leaf, feat)\n",
    "        print(\"Train and Test loss : \", train_loss, test_loss)\n",
    "    return test_preds, test_loss, test_preds2\n"
   ]
  },
  {
   "cell_type": "code",
   "execution_count": 65,
   "metadata": {
    "scrolled": true
   },
   "outputs": [
    {
     "name": "stdout",
     "output_type": "stream",
     "text": [
      "Depth, leaf, feat :  20 15 0.7\n",
      "Train and Test loss :  0.79514470682 0.974586093595\n",
      "[0.97458609359505532]\n",
      "Depth, leaf, feat :  20 15 0.7\n",
      "Train and Test loss :  0.798949964294 0.956226655021\n",
      "[0.97458609359505532, 0.95622665502137028]\n",
      "Depth, leaf, feat :  20 15 0.7\n",
      "Train and Test loss :  0.808383938493 0.928500990848\n",
      "[0.97458609359505532, 0.95622665502137028, 0.9285009908476265]\n",
      "Depth, leaf, feat :  20 15 0.7\n",
      "Train and Test loss :  0.952904665428 0.490758243363\n",
      "[0.97458609359505532, 0.95622665502137028, 0.9285009908476265, 0.49075824336264728]\n",
      "Depth, leaf, feat :  20 15 0.7\n",
      "Train and Test loss :  0.804185780343 0.92490089169\n",
      "[0.97458609359505532, 0.95622665502137028, 0.9285009908476265, 0.49075824336264728, 0.92490089168975231]\n",
      "0.807411221468\n"
     ]
    }
   ],
   "source": [
    "kf = model_selection.KFold(n_splits=5, shuffle=True, random_state=2018)\n",
    "cv_scores = []\n",
    "pred_test_full = 0\n",
    "pred_val_full = np.zeros(train_X.shape[0])\n",
    "for dev_index, val_index in kf.split(train_X):\n",
    "    dev_X, val_X = train_X.iloc[dev_index,:], train_X.iloc[val_index,:]\n",
    "    dev_y, val_y = train_y[dev_index], train_y[val_index]\n",
    "    pred_val, loss, pred_test = runET(dev_X, dev_y, val_X, val_y, test_X)\n",
    "    pred_val_full[val_index] = pred_val\n",
    "    pred_test_full = pred_test_full + pred_test\n",
    "    cv_scores.append(loss)\n",
    "    print(cv_scores)\n",
    "pred_test_full /= 5.\n",
    "print(metrics.r2_score(train_y, pred_val_full))"
   ]
  },
  {
   "cell_type": "code",
   "execution_count": 52,
   "metadata": {
    "collapsed": true
   },
   "outputs": [],
   "source": [
    "out_df = pd.DataFrame({\"portfolio_id\":test_id})\n",
    "out_df[\"return\"] = pred_test_full"
   ]
  },
  {
   "cell_type": "code",
   "execution_count": 45,
   "metadata": {
    "collapsed": true
   },
   "outputs": [],
   "source": [
    "out_df.to_csv(\"ET1.csv\", index=False)\n",
    "#n_estimators = 100,\n",
    "#max_depth = 20,\n",
    "#min_samples_split = 2,\n",
    "#min_samples_leaf = 10,\n",
    "#max_features =  0.7,\n",
    "# 0.95641"
   ]
  },
  {
   "cell_type": "code",
   "execution_count": 53,
   "metadata": {
    "collapsed": true
   },
   "outputs": [],
   "source": [
    "out_df.to_csv(\"ET2.csv\", index=False)\n",
    "#n_estimators = 100,\n",
    "#max_depth = 20,\n",
    "#min_samples_split = 2,\n",
    "#min_samples_leaf = 5,\n",
    "#max_features =  0.7,\n",
    "# 0.96097"
   ]
  },
  {
   "cell_type": "code",
   "execution_count": null,
   "metadata": {
    "collapsed": true
   },
   "outputs": [],
   "source": [
    "#0.96315 ET1(0.3)+XGB(0.4)+LGM(0.3)\n",
    "#0.96437 ET2(0.3)+XGB(0.4)+LGM(0.3)"
   ]
  },
  {
   "cell_type": "code",
   "execution_count": 244,
   "metadata": {},
   "outputs": [
    {
     "data": {
      "text/plain": [
       "CHF    5304\n",
       "USD    2953\n",
       "GBP     559\n",
       "EUR     479\n",
       "JPY      61\n",
       "Name: currency, dtype: int64"
      ]
     },
     "execution_count": 244,
     "metadata": {},
     "output_type": "execute_result"
    }
   ],
   "source": [
    "train.currency.value_counts()"
   ]
  },
  {
   "cell_type": "code",
   "execution_count": 267,
   "metadata": {
    "collapsed": true
   },
   "outputs": [],
   "source": [
    "train_1=train[train['currency']=='JPY']"
   ]
  },
  {
   "cell_type": "code",
   "execution_count": 268,
   "metadata": {},
   "outputs": [
    {
     "data": {
      "text/html": [
       "<div>\n",
       "<style>\n",
       "    .dataframe thead tr:only-child th {\n",
       "        text-align: right;\n",
       "    }\n",
       "\n",
       "    .dataframe thead th {\n",
       "        text-align: left;\n",
       "    }\n",
       "\n",
       "    .dataframe tbody tr th {\n",
       "        vertical-align: top;\n",
       "    }\n",
       "</style>\n",
       "<table border=\"1\" class=\"dataframe\">\n",
       "  <thead>\n",
       "    <tr style=\"text-align: right;\">\n",
       "      <th></th>\n",
       "      <th>portfolio_id</th>\n",
       "      <th>office_id</th>\n",
       "      <th>pf_category</th>\n",
       "      <th>sold</th>\n",
       "      <th>country_code</th>\n",
       "      <th>euribor_rate</th>\n",
       "      <th>currency</th>\n",
       "      <th>libor_rate</th>\n",
       "      <th>bought</th>\n",
       "      <th>indicator_code</th>\n",
       "      <th>...</th>\n",
       "      <th>sell_year</th>\n",
       "      <th>sell_month</th>\n",
       "      <th>start_week</th>\n",
       "      <th>start_weekday_name</th>\n",
       "      <th>sell_week</th>\n",
       "      <th>sell_weekday_name</th>\n",
       "      <th>profit</th>\n",
       "      <th>period</th>\n",
       "      <th>return</th>\n",
       "      <th>valid</th>\n",
       "    </tr>\n",
       "  </thead>\n",
       "  <tbody>\n",
       "    <tr>\n",
       "      <th>3643</th>\n",
       "      <td>PF00006634</td>\n",
       "      <td>OFF00001002</td>\n",
       "      <td>B</td>\n",
       "      <td>44000000.0</td>\n",
       "      <td>U</td>\n",
       "      <td>0.01223</td>\n",
       "      <td>JPY</td>\n",
       "      <td>0.560000</td>\n",
       "      <td>4.399318e+07</td>\n",
       "      <td>0</td>\n",
       "      <td>...</td>\n",
       "      <td>2011</td>\n",
       "      <td>7</td>\n",
       "      <td>25</td>\n",
       "      <td>Wednesday</td>\n",
       "      <td>30</td>\n",
       "      <td>Monday</td>\n",
       "      <td>6818.943064</td>\n",
       "      <td>33</td>\n",
       "      <td>0.00216</td>\n",
       "      <td>True</td>\n",
       "    </tr>\n",
       "    <tr>\n",
       "      <th>3804</th>\n",
       "      <td>PF00006888</td>\n",
       "      <td>OFF00001002</td>\n",
       "      <td>B</td>\n",
       "      <td>44000000.0</td>\n",
       "      <td>U</td>\n",
       "      <td>0.01332</td>\n",
       "      <td>JPY</td>\n",
       "      <td>0.559587</td>\n",
       "      <td>4.399362e+07</td>\n",
       "      <td>0</td>\n",
       "      <td>...</td>\n",
       "      <td>2011</td>\n",
       "      <td>8</td>\n",
       "      <td>29</td>\n",
       "      <td>Thursday</td>\n",
       "      <td>34</td>\n",
       "      <td>Tuesday</td>\n",
       "      <td>6379.075034</td>\n",
       "      <td>33</td>\n",
       "      <td>0.00216</td>\n",
       "      <td>True</td>\n",
       "    </tr>\n",
       "    <tr>\n",
       "      <th>4140</th>\n",
       "      <td>PF00007191</td>\n",
       "      <td>OFF00001002</td>\n",
       "      <td>B</td>\n",
       "      <td>47300000.0</td>\n",
       "      <td>U</td>\n",
       "      <td>0.01434</td>\n",
       "      <td>JPY</td>\n",
       "      <td>0.531388</td>\n",
       "      <td>4.729186e+07</td>\n",
       "      <td>0</td>\n",
       "      <td>...</td>\n",
       "      <td>2011</td>\n",
       "      <td>9</td>\n",
       "      <td>34</td>\n",
       "      <td>Tuesday</td>\n",
       "      <td>38</td>\n",
       "      <td>Friday</td>\n",
       "      <td>8144.708411</td>\n",
       "      <td>31</td>\n",
       "      <td>0.00240</td>\n",
       "      <td>True</td>\n",
       "    </tr>\n",
       "    <tr>\n",
       "      <th>4322</th>\n",
       "      <td>PF00007924</td>\n",
       "      <td>OFF00001002</td>\n",
       "      <td>B</td>\n",
       "      <td>33000000.0</td>\n",
       "      <td>U</td>\n",
       "      <td>0.01355</td>\n",
       "      <td>JPY</td>\n",
       "      <td>0.552500</td>\n",
       "      <td>3.299432e+07</td>\n",
       "      <td>0</td>\n",
       "      <td>...</td>\n",
       "      <td>2011</td>\n",
       "      <td>11</td>\n",
       "      <td>42</td>\n",
       "      <td>Thursday</td>\n",
       "      <td>47</td>\n",
       "      <td>Thursday</td>\n",
       "      <td>5682.354706</td>\n",
       "      <td>35</td>\n",
       "      <td>0.00240</td>\n",
       "      <td>True</td>\n",
       "    </tr>\n",
       "    <tr>\n",
       "      <th>4825</th>\n",
       "      <td>PF00011783</td>\n",
       "      <td>OFF00001002</td>\n",
       "      <td>B</td>\n",
       "      <td>27500000.0</td>\n",
       "      <td>U</td>\n",
       "      <td>0.00258</td>\n",
       "      <td>JPY</td>\n",
       "      <td>0.307306</td>\n",
       "      <td>2.749763e+07</td>\n",
       "      <td>1</td>\n",
       "      <td>...</td>\n",
       "      <td>2014</td>\n",
       "      <td>6</td>\n",
       "      <td>20</td>\n",
       "      <td>Monday</td>\n",
       "      <td>24</td>\n",
       "      <td>Thursday</td>\n",
       "      <td>2367.851657</td>\n",
       "      <td>31</td>\n",
       "      <td>0.00120</td>\n",
       "      <td>True</td>\n",
       "    </tr>\n",
       "  </tbody>\n",
       "</table>\n",
       "<p>5 rows × 25 columns</p>\n",
       "</div>"
      ],
      "text/plain": [
       "     portfolio_id    office_id pf_category        sold country_code  \\\n",
       "3643   PF00006634  OFF00001002           B  44000000.0            U   \n",
       "3804   PF00006888  OFF00001002           B  44000000.0            U   \n",
       "4140   PF00007191  OFF00001002           B  47300000.0            U   \n",
       "4322   PF00007924  OFF00001002           B  33000000.0            U   \n",
       "4825   PF00011783  OFF00001002           B  27500000.0            U   \n",
       "\n",
       "      euribor_rate currency  libor_rate        bought  indicator_code  ...    \\\n",
       "3643       0.01223      JPY    0.560000  4.399318e+07               0  ...     \n",
       "3804       0.01332      JPY    0.559587  4.399362e+07               0  ...     \n",
       "4140       0.01434      JPY    0.531388  4.729186e+07               0  ...     \n",
       "4322       0.01355      JPY    0.552500  3.299432e+07               0  ...     \n",
       "4825       0.00258      JPY    0.307306  2.749763e+07               1  ...     \n",
       "\n",
       "     sell_year  sell_month  start_week  start_weekday_name  sell_week  \\\n",
       "3643      2011           7          25           Wednesday         30   \n",
       "3804      2011           8          29            Thursday         34   \n",
       "4140      2011           9          34             Tuesday         38   \n",
       "4322      2011          11          42            Thursday         47   \n",
       "4825      2014           6          20              Monday         24   \n",
       "\n",
       "      sell_weekday_name       profit  period   return  valid  \n",
       "3643             Monday  6818.943064      33  0.00216   True  \n",
       "3804            Tuesday  6379.075034      33  0.00216   True  \n",
       "4140             Friday  8144.708411      31  0.00240   True  \n",
       "4322           Thursday  5682.354706      35  0.00240   True  \n",
       "4825           Thursday  2367.851657      31  0.00120   True  \n",
       "\n",
       "[5 rows x 25 columns]"
      ]
     },
     "execution_count": 268,
     "metadata": {},
     "output_type": "execute_result"
    }
   ],
   "source": [
    "train_1.head()"
   ]
  },
  {
   "cell_type": "raw",
   "metadata": {},
   "source": []
  },
  {
   "cell_type": "code",
   "execution_count": 269,
   "metadata": {},
   "outputs": [
    {
     "data": {
      "text/plain": [
       "<matplotlib.collections.PathCollection at 0x7f7b30904198>"
      ]
     },
     "execution_count": 269,
     "metadata": {},
     "output_type": "execute_result"
    }
   ],
   "source": [
    "from matplotlib import pyplot as plt\n",
    "plt.scatter(train_1.index, train_1['return'])"
   ]
  },
  {
   "cell_type": "code",
   "execution_count": 266,
   "metadata": {},
   "outputs": [
    {
     "name": "stdout",
     "output_type": "stream",
     "text": [
      "2011    0.168266\n",
      "2012    0.126981\n",
      "2010    0.103805\n",
      "2009    0.089253\n",
      "2016    0.085157\n",
      "2015    0.080737\n",
      "2014    0.074162\n",
      "2013    0.067694\n",
      "2008    0.066616\n",
      "2017    0.054005\n",
      "2007    0.028134\n",
      "2006    0.024038\n",
      "2005    0.022637\n",
      "2004    0.008516\n",
      "Name: start_year, dtype: float64\n",
      "2011    0.180587\n",
      "2012    0.132056\n",
      "2010    0.104353\n",
      "2016    0.088732\n",
      "2009    0.080400\n",
      "2015    0.080192\n",
      "2014    0.073318\n",
      "2013    0.071443\n",
      "2008    0.058321\n",
      "2017    0.056447\n",
      "2007    0.027703\n",
      "2005    0.019163\n",
      "2006    0.018954\n",
      "2004    0.008332\n",
      "Name: start_year, dtype: float64\n"
     ]
    }
   ],
   "source": [
    "print(train_X.start_year.value_counts()/len(train_X))\n",
    "print(test_X.start_year.value_counts()/len(test_X))"
   ]
  },
  {
   "cell_type": "code",
   "execution_count": 270,
   "metadata": {},
   "outputs": [
    {
     "data": {
      "image/png": "[encoded data removed]",
      "text/plain": [
       "<matplotlib.figure.Figure at 0x7f7b41ef6b00>"
      ]
     },
     "metadata": {},
     "output_type": "display_data"
    }
   ],
   "source": [
    "plt.show()"
   ]
  },
  {
   "cell_type": "code",
   "execution_count": 222,
   "metadata": {},
   "outputs": [
    {
     "data": {
      "image/png": "[encoded data removed]",
      "text/plain": [
       "<matplotlib.figure.Figure at 0x7f7b42665c18>"
      ]
     },
     "metadata": {},
     "output_type": "display_data"
    }
   ],
   "source": [
    "import seaborn as sns\n",
    "from matplotlib import pyplot as plt\n",
    "train_X_contin = train_X.select_dtypes(include=['int64', 'float64'])\n",
    "colormap = plt.cm.inferno\n",
    "plt.figure(figsize=(20,16))\n",
    "plt.title('Pearson correlation of continuous features', y=1.05, size=15)\n",
    "sns.heatmap(train_X_contin.corr(),linewidths=0.1,vmax=1.0, square=True, cmap=colormap, linecolor='white', annot=True)\n",
    "plt.show()"
   ]
  },
  {
   "cell_type": "code",
   "execution_count": null,
   "metadata": {
    "collapsed": true
   },
   "outputs": [],
   "source": []
  }
 ],
 "metadata": {
  "kernelspec": {
   "display_name": "Python 3",
   "language": "python",
   "name": "python3"
  },
  "language_info": {
   "codemirror_mode": {
    "name": "ipython",
    "version": 3
   },
   "file_extension": ".py",
   "mimetype": "text/x-python",
   "name": "python",
   "nbconvert_exporter": "python",
   "pygments_lexer": "ipython3",
   "version": "3.6.2"
  }
 },
 "nbformat": 4,
 "nbformat_minor": 2
}
